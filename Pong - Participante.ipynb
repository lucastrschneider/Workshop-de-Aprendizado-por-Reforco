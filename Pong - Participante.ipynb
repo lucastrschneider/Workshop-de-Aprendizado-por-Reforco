{
 "cells": [
  {
   "cell_type": "markdown",
   "metadata": {},
   "source": [
    "# 🎮 Workshop de Introdução ao Aprendizado por Reforço\n",
    "⠀\n",
    "\n",
    "Bem vindes ao **Workshop de Introdução ao Aprendizado por Reforço**, organizado pelo Grupo Turing! \n",
    "\n",
    "O objetivo deste evento é ensinar o básico necessário da área de Aprendizado por Reforço utilizando um dos maiores clássicos da história dos video-games: ***Pong***.\n",
    "\n",
    "![Pong](https://media2.giphy.com/media/aTGwuEFyg6d8c/giphy.gif)"
   ]
  },
  {
   "cell_type": "code",
   "execution_count": 1,
   "metadata": {
    "tags": []
   },
   "outputs": [
    {
     "output_type": "stream",
     "name": "stdout",
     "text": "Defaulting to user installation because normal site-packages is not writeable\nRequirement already up-to-date: turing-envs in /home/schneider/.local/lib/python2.7/site-packages (0.1.1)\nRequirement already satisfied, skipping upgrade: gym in /home/schneider/.local/lib/python2.7/site-packages (from turing-envs) (0.16.0)\nRequirement already satisfied, skipping upgrade: pygame in /home/schneider/.local/lib/python2.7/site-packages (from turing-envs) (1.9.6)\nRequirement already satisfied, skipping upgrade: pyglet<=1.5.0,>=1.4.0 in /home/schneider/.local/lib/python2.7/site-packages (from gym->turing-envs) (1.5.0)\nRequirement already satisfied, skipping upgrade: cloudpickle~=1.2.0 in /home/schneider/.local/lib/python2.7/site-packages (from gym->turing-envs) (1.2.2)\nRequirement already satisfied, skipping upgrade: scipy in /home/schneider/.local/lib/python2.7/site-packages (from gym->turing-envs) (1.2.3)\nRequirement already satisfied, skipping upgrade: numpy>=1.10.4 in /home/schneider/.local/lib/python2.7/site-packages (from gym->turing-envs) (1.16.6)\nRequirement already satisfied, skipping upgrade: enum34~=1.1.6; python_version < \"3.4\" in /home/schneider/.local/lib/python2.7/site-packages (from gym->turing-envs) (1.1.10)\nRequirement already satisfied, skipping upgrade: six in /home/schneider/.local/lib/python2.7/site-packages (from gym->turing-envs) (1.15.0)\nRequirement already satisfied, skipping upgrade: future in /home/schneider/.local/lib/python2.7/site-packages (from pyglet<=1.5.0,>=1.4.0->gym->turing-envs) (0.18.2)\n"
    }
   ],
   "source": [
    "# Instala os ambientes do Grupo Turing\n",
    "!pip install -U turing-envs"
   ]
  },
  {
   "cell_type": "markdown",
   "metadata": {},
   "source": [
    "## 🏓 Sobre o Pong\n",
    "\n",
    "Começaremos falando sobre o problema, ou seja, sobre o jogo Pong. Este que foi o primeiro jogo de video-game lucrativo da história, publicado em 1972, constando 48 anos de legado.\n",
    "\n",
    "Pong simula uma partida de tênis, existem duas \"raquetes\" e uma bola, e o objetivo de cada uma das raquetes é não somente evitar que a bola passe por ela, como também fazer com que esta passe pela linha que a outra raquete protege, criando assim a premissa que sustenta o interesse pelo jogo. Queremos então desenvolver um algoritmo capaz de &mdash; sem nenhuma explicação adicional &mdash; maximizar as suas recompensas, sendo as ações, os estados e as recompensas, todas relativas ao jogo Pong. Teremos no final, portanto, um modelo treinado capaz de bom desempenho dentro do ambiente. "
   ]
  },
  {
   "cell_type": "markdown",
   "metadata": {},
   "source": [
    "## 💻 Programando..."
   ]
  },
  {
   "cell_type": "markdown",
   "metadata": {},
   "source": [
    "### Importando o Gym\n",
    "\n",
    "O **[Gym](https://gym.openai.com/)** é uma biblioteca desenvolvida pela OpenAI que contém várias implementações prontas de ambientes de Aprendizagem por Reforço. Ela é muito utilizada quando se quer testar um algoritmo de agente sem ter o trabalho de programar seu próprio ambiente.\n",
    "\n",
    "<img src=\"https://user-images.githubusercontent.com/10624937/42135602-b0335606-7d12-11e8-8689-dd1cf9fa11a9.gif\" alt=\"Exemplos de Ambientes do Gym\" class=\"inline\"/>\n",
    "<figcaption>Exemplo de Ambientes do Gym</figcaption>\n",
    "<br>\n",
    "\n",
    "Para se ter acesso a esses ambientes, basta importar o Gym da seguinte forma:"
   ]
  },
  {
   "cell_type": "code",
   "execution_count": 2,
   "metadata": {},
   "outputs": [],
   "source": [
    "import gym"
   ]
  },
  {
   "cell_type": "markdown",
   "metadata": {},
   "source": [
    "### O que é um Ambiente?\n",
    "\n",
    "Um **Ambiente** de Aprendizagem por Reforço é um espaço que representa o nosso problema, é o objeto com o qual o nosso agente deve interagir para cumprir sua função. Isso significa que o agente toma **ações** nesse ambiente, e recebe **recompensas** dele com base na qualidade de sua tomada de decisões.\n",
    "\n",
    "Todos os ambientes são dotados de um **espaço de observações**, que é a forma pela qual o agente recebe informações e deve se basear para a tomada de decisões, e um **espaço de ações**, que especifica as ações possíveis do agente. No xadrez, por exemplo, o espaço de observações seria o conjunto de todas as configurações diferentes do tabuleiro, e o espaço de ações seria o conjunto de todos os movimentos permitidos.\n",
    "\n",
    "<img src=\"https://www.raspberrypi.org/wp-content/uploads/2016/08/giphy-1-1.gif\" alt=\"Uma Ação do Xadrez\" class=\"inline\"/>\n",
    "\n",
    "### Como Funciona um Ambiente do Gym?\n",
    "\n",
    "Agora que você já sabe o que é um ambiente, é preciso entender como nosso agente interage efetivamente com ele. Todos os ambientes do Gym possuem alguns métodos simples para facilitar a comunicação com eles:\n",
    "\n",
    "<br>\n",
    "\n",
    "| Método         | Funcionalidade                                        |\n",
    "| :------------- |:----------------------------------------------------- |\n",
    "| `reset()`      | Inicializa o ambiente e recebe a observação inicial   |\n",
    "| `step(acao)`   | Executa uma ação e recebe a observação e a recompensa |\n",
    "| `render()`     | Renderiza o ambiente                                  |\n",
    "| `close()`      | Fecha o ambiente                                      |\n",
    "\n",
    "<br>\n",
    "\n",
    "Assim, o código para interagir com o ambiente costuma seguir o seguinte modelo:\n",
    "\n",
    "---\n",
    "\n",
    "```python\n",
    "env = gym.make(\"Nome do Ambiente\")                   # Cria o ambiente\n",
    "estado = env.reset()                                 # Inicializa o ambiente\n",
    "done = False                                         # Variável que diz se acabou\n",
    "\n",
    "while not done:\n",
    "    env.render()                                     # Renderiza o ambiente\n",
    "    acao = random()                                  # Define alguma ação\n",
    "    estado, recompensa, done, info = env.step(acao)  # Executa uma ação\n",
    "    \n",
    "env.close()                                          # Fecha o ambiente\n",
    "```\n",
    "\n",
    "---"
   ]
  },
  {
   "cell_type": "markdown",
   "metadata": {},
   "source": [
    "### Criando um Ambiente\n",
    "\n",
    "Para utilizar um dos ambientes do Gym, nós usamos a função ```gym.make()```, passando o nome do ambiente desejado como parâmetro e guardando o valor retornado em uma variável que chamaramos de ```env```. A lista com todos os ambientes do gym pode ser encontrada [aqui](https://gym.openai.com/envs/#classic_control). Nesse workshop, utilizaremos um ambiente de pong do Grupo Turing, que requer a instalação do [Turing Envs](https://github.com/GrupoTuring/turing-envs)."
   ]
  },
  {
   "cell_type": "code",
   "execution_count": 3,
   "metadata": {},
   "outputs": [
    {
     "output_type": "execute_result",
     "data": {
      "text/plain": "[0]"
     },
     "metadata": {},
     "execution_count": 3
    }
   ],
   "source": [
    "env = gym.make(\"turing_envs:pong-easy-v0\")\n",
    "env.seed(0)"
   ]
  },
  {
   "cell_type": "markdown",
   "metadata": {},
   "source": [
    "Nesse caso, nós vamos utilizar o ambiente ```turing_envs:pong-easy-v0```, um ambiente que reproduz o jogo _Pong_.\n",
    "\n",
    "<img src=\"data:image/png;base64,iVBORw0KGgoAAAANSUhEUgAAAYkAAAEkCAIAAABVPVraAAAACXBIWXMAAA7EAAAOxAGVKw4bAAAEDklEQVR4Xu3csWkDQBBFwZNRCXf9F3hNOFKyYHBg5CeYCX8Bj432sfdeADFfcwAI0CagSJuAIm0CirQJKNImoEibgCJtAoq0CSjSJqBIm4AibQKKtAko0iagSJuAIm0CirQJKNImoEibgCJtAoq0CSjSJqBIm4AibQKKtAko0iagSJuAIm0CirQJKNImoEibgCJtAoqec3i5985prbXWOWdOAH/N3QQUaRNQpE1AkTYBRdoEFGkTUKRNQJE2AUXaBBRpE1CkTUCRNgFF2gQUaRNQpE1AkTYBRdoEFGkTUKRNQJE2AUXaBBRpE1CkTUCRNgFF2gQUaRNQpE1AkTYBRc85EHDvndOvnXPmBB/I3QQUaRNQpE1AkTYBRdoEFGkTUKRNQJE2AUXaBBRpE1CkTUCRNgFF2gQUaRNQpE1AkTYBRdoEFGkTUKRNQJF/4UV+foO7CSjSJqBIm4AibQKKtAko0iagSJuAIm0CirQJKNImoEibgCJtAoq0CSjyhwB4k3vvnNZaPzzecDcBRdoEFGkTUKRNQJE2AUXaBBRpE1CkTUCRNgFF2gQUaRNQpE1AkTYBRdoEFGkTUKRNQJE2AUXaBBRpE1CkTUCRNgFF2gQUaRNQpE1AkTYBRdoEFGkTUKRNQJE2AUXaBBRpE1CkTUCRNgFF2gQUaRNQpE1A0XMOL+ecOQG8i7sJKNImoEibgCJtAoq0CSjSJqBIm4AibQKKtAko0iagSJuAIm0CirQJKNImoEibgCJtAoq0CSjSJqBIm4AibQKKtAko0iagSJuAIm0CirQJKNImoEibgCJtAoq0CSjSJqBIm4AibQKKtAko0iagSJuAIm0CirQJKNImoEibgCJtAoq0CSjSJqBIm4AibQKKtAko0iagSJuAIm0CirQJKNImoEibgCJtAoq0CSjSJqBIm4AibQKKtAko0iagSJuAIm0CirQJKNImoOix954bwH9zNwFF2gQUaRNQpE1AkTYBRdoEFGkTUKRNQJE2AUXaBBRpE1CkTUCRNgFF2gQUaRNQpE1AkTYBRdoEFGkTUKRNQJE2AUXaBBRpE1CkTUCRNgFF2gQUaRNQpE1AkTYBRdoEFGkTUKRNQJE2AUXaBBRpE1CkTUCRNgFF2gQUaRNQpE1AkTYBRdoEFGkTUKRNQJE2AUXaBBRpE1CkTUCRNgFF2gQUaRNQpE1AkTYBRdoEFGkTUKRNQJE2AUXaBBRpE1CkTUCRNgFF2gQUaRNQpE1AkTYBRdoEFGkTUKRNQJE2AUXaBBRpE1CkTUCRNgFF2gQUaRNQpE1AkTYBRdoEFGkTUKRNQJE2AUXaBBRpE1CkTUCRNgFF2gQUaRNQpE1AkTYBRdoEFGkTUKRNQJE2AUXaBBRpE1D0DYCTDEdrWdtnAAAAAElFTkSuQmCC\" width=\"400px\" alt=\"Ambiente do turing_envs:pong-easy-v0\" class=\"inline\"/>\n",
    "\n",
    "#### Características do Pong\n",
    "\n",
    "Antes de treinar qualquer agente, primeiro é preciso entender melhor quais as características do nosso ambiente.\n",
    "\n",
    "O **Espaço de Observação** do pong (modo fácil) é definido por 2 informações:\n",
    "\n",
    "| Estado    | Informação                            |\n",
    "| :-------- | :------------------------------------ |\n",
    "| 0         | Distância _x_ entre a bola e o agente |\n",
    "| 1         | Distância _y_ entre a bola e o agente |\n",
    "\n",
    "Dessa forma, a cada instante recebemos uma lista da observação com o seguinte formato:"
   ]
  },
  {
   "cell_type": "code",
   "execution_count": 4,
   "metadata": {
    "tags": []
   },
   "outputs": [
    {
     "output_type": "stream",
     "name": "stdout",
     "text": "[-376.07236  167.37572]\n"
    }
   ],
   "source": [
    "print(env.observation_space.sample())"
   ]
  },
  {
   "cell_type": "markdown",
   "metadata": {},
   "source": [
    "Já o **Espaço de Ação** é composto por três ações: mover o jogador para cima, baixo, ou deixá-lo parado:\n",
    "\n",
    "| Ação | Significado      |\n",
    "| :--- | :--------------- |\n",
    "| 0    | Ficar parado     |\n",
    "| 1    | Mover para baixo |\n",
    "| 2    | Mover para cima  |\n",
    "\n",
    "Por exemplo, para mover a barra para a cima, fazemos `env.step(2)`."
   ]
  },
  {
   "cell_type": "code",
   "execution_count": 5,
   "metadata": {
    "tags": []
   },
   "outputs": [
    {
     "output_type": "stream",
     "name": "stdout",
     "text": "1\n"
    }
   ],
   "source": [
    "print(env.action_space.sample())"
   ]
  },
  {
   "cell_type": "markdown",
   "metadata": {},
   "source": [
    "Por fim, cada vez que tomamos uma ação, recebemos do ambiente uma **recompensa**, conforme a tabela abaixo:\n",
    "\n",
    "| Ocorrência          | Recompensa |\n",
    "| :------------------ | ---------: |\n",
    "| Ponto do Agente     | $+500$     |\n",
    "| Ponto do Oponente   | $-500$     |\n",
    "| Vitória do Agente   | $+2000$    |\n",
    "| Vitória do Oponente | $-2000$    |\n",
    "\n",
    "O primeiro jogador a fazer quatro pontos ganha o jogo. Além disso, as recompensas são cumulativas. Isso significa que se o oponente fizer um ponto _e_ ganhar o jogo, a recompensa é de $-2500$."
   ]
  },
  {
   "cell_type": "markdown",
   "metadata": {},
   "source": [
    "### ✍ Exercício de Gym\n",
    "\n",
    "Agora que você já entende como o Gym funciona, vamos tentar aplicar esse conhecimento criando uma função que roda um episódio de Pong tomando ações aleatórias!\n",
    "\n",
    "OBS: Lembrete das funções do Gym\n",
    "\n",
    "| Método                 | Funcionalidade                                          |\n",
    "| :--------------------- |:------------------------------------------------------- |\n",
    "| `reset()`              | Inicializa o ambiente e recebe a observação inicial     |\n",
    "| `step(acao)`           | Executa uma ação e recebe a observação e a recompensa   |\n",
    "| `render()`             | Renderiza o ambiente                                    |\n",
    "| `close()`              | Fecha o ambiente                                        |"
   ]
  },
  {
   "cell_type": "code",
   "execution_count": 6,
   "metadata": {},
   "outputs": [],
   "source": [
    "# Essa função deve rodar um episodio de Pong escolhendo ações aleatórias\n",
    "def rodar_ambiente():\n",
    "    # Criando o ambiente 'turing_envs:pong-easy-v0'\n",
    "    env = gym.make(\"turing_envs:pong-easy-v0\")\n",
    "\n",
    "    # Resete o ambiente e receba o primeiro estado\n",
    "    estado = env.reset()\n",
    "\n",
    "    # Inicializando done como false\n",
    "    done = False\n",
    "\n",
    "    # Loop de treino\n",
    "    while not done:\n",
    "        # Escolha uma acao aleatoria\n",
    "        acao = env.action_space.sample()\n",
    "\n",
    "        # Tome essa acao e receba as informacoes do estado seguinte\n",
    "        prox_estado, recompensa, done, info = env.step(acao)\n",
    "\n",
    "        # Renderize o ambiente\n",
    "        env.render()\n",
    "\n",
    "        # Atualizando o estado\n",
    "        estado = prox_estado\n",
    "\n",
    "    # Fechando o ambiente\n",
    "    env.close()"
   ]
  },
  {
   "cell_type": "code",
   "execution_count": 7,
   "metadata": {},
   "outputs": [],
   "source": [
    "# Testando a função\n",
    "rodar_ambiente()"
   ]
  },
  {
   "cell_type": "markdown",
   "metadata": {},
   "source": [
    "## 👩‍💻 Algoritmo"
   ]
  },
  {
   "cell_type": "markdown",
   "metadata": {},
   "source": [
    "Primeiramente, precisaremos utilizar uma biblioteca chamada ***NumPy*** para auxiliar nas computações. Esta é uma biblioteca do Python capaz de manusear diversas computações matemáticas com maestria e será importante futuramente para o nosso trabalho."
   ]
  },
  {
   "cell_type": "code",
   "execution_count": 8,
   "metadata": {
    "tags": []
   },
   "outputs": [
    {
     "output_type": "stream",
     "name": "stdout",
     "text": "Número de ações: 3\n"
    }
   ],
   "source": [
    "import numpy as np # Importando a biblioteca NumPy\n",
    "import gym         # Importando a Biblioteca Gym\n",
    "\n",
    "# Criando o nosso Ambiente: Pong\n",
    "env = gym.make(\"turing_envs:pong-easy-v0\")\n",
    "\n",
    "# Número total de ações: 3\n",
    "# 0 = parado; 1 = baixo; 2 = cima\n",
    "n_acoes = env.action_space.n\n",
    "\n",
    "print('Número de ações:', n_acoes)"
   ]
  },
  {
   "cell_type": "markdown",
   "metadata": {},
   "source": [
    "### 🔢 Discretizando o nosso Estado\n",
    "\n",
    "Como comentamos anteriormente, o estado que o nosso agente recebe consiste das distâncias horizontal e vertical da raquete controlada até a bola. Dessa forma, se a nossa tela possuir 800 unidades de largura e 600 unidades de altura, a quantidade total de diferentes estados possíveis seria aproximadamente $3 \\times 800 \\times 600 = 960000$.\n",
    "\n",
    "Como Q-Learning é um algoritmo que guarda em uma tabela as estimativas do Q de cada ação para cada estado, esse gigantesco número de estados exigiria não somente guardar como atualizar cada um desses Q. Não é uma situação ideal.\n",
    "\n",
    "Para simplificar (e agilizar) a situação, \"discretizar\" os nossos estados é razoável e esperado. Faremos com que estados similares o suficiente sejam considerados como iguais e comparilhem das mesmas estimativas, já que não faz sentido distinguir o estado (502,234) do estado (515,222)."
   ]
  },
  {
   "cell_type": "code",
   "execution_count": 9,
   "metadata": {},
   "outputs": [],
   "source": [
    "def discretiza_estado(estado):\n",
    "    return tuple(round(x/10) for x in estado)"
   ]
  },
  {
   "cell_type": "markdown",
   "metadata": {},
   "source": [
    "### 🔀 Escolhendo Ações\n",
    "\n",
    "Para o processo de de escolha de ação, é necessário lembrar do dilema entre **Exploração** e **Explotação**. Nosso modelo precisa estabelecer um equilíbrio entre **explorar o ambiente**, escolhendo ações que ele não costuma tomar para encontrar alguma solução que ele não havia pensado antes, e **aproveitar** o conhecimento que já possui, tomando ações que ele acredita serem as melhores para maximizar as recompensas que receberá no episódio.\n",
    "\n",
    "De forma a assegurar que o agente busque tanto novas alternativas que podem gerar melhores resultados quanto seja capaz de utilizar o aprendizado obtido de forma a maximizar seu retorno, existem diversas estratégias para a escolha de exploração e explotação. Uma das mais utilizadas, que também vamos utilizar aqui, é a seleção de ações pela estratégia do **\"$\\epsilon$-greedy\"**.\n",
    "\n",
    "#### A Estratégia **$\\epsilon$-greedy**\n",
    "\n",
    "O algoritmo \"$\\epsilon$-greedy\" é definido da seguinte forma: é retirado um número aleatório, no intervalo entre 0 e 1. caso este número tenha valor inferior ao valor do epsilon, a escolha será de uma ação aleatória, o que configura exploração. Caso este número seja superior ao epsilon, a ação a ser tomada é a que gera a maior recompensa de acordo com os valores da tabela Q.\n",
    "\n",
    "Este valor de $\\epsilon$ não é constante ao longo do treinamento. Inicialmente, este valor é alto, incentivando a maior exploração do ambiente. A medida que o treinamento ocorre, mais informação sobre o ambiente é adquirida, conseguindo uma tabela Q mais representativa da realidade. Dessa forma, quanto mais avançado no treinamento, menor a necessidade de exploração e maior a necessidade de exploitar o conhecimento adquirido para maximizar a recompensa. Esta atualização do $\\epsilon$ é chamada **\"$\\epsilon$-decay\"** (decaimento do epsilon). Também é estabelecido um valor mínimo para o $\\epsilon$, para que o agente nunca pare completamente de explorar o ambiente."
   ]
  },
  {
   "cell_type": "code",
   "execution_count": 23,
   "metadata": {},
   "outputs": [],
   "source": [
    "# Constantes da Política Epsilon Greedy\n",
    "# Epsilon: probabilidade de experimentar uma ação aleatória\n",
    "EPSILON = 0.8        # Valor inicial do epsilon\n",
    "EPSILON_MIN = 0.01   # Valor mínimo de epsilon\n",
    "DECAIMENTO = 0.99    # Fator de decaímento do epsilon (por episódio)"
   ]
  },
  {
   "cell_type": "code",
   "execution_count": 11,
   "metadata": {},
   "outputs": [],
   "source": [
    "def escolhe_acao(env, Q, estado, epsilon):\n",
    "    # Se não conhecermos ainda o estado, inicializamos o Q de cada ação como 0\n",
    "    if estado not in Q.keys(): Q[estado] = [0] * n_acoes\n",
    "\n",
    "    # Escolhemos um número aleatório com \"np.random.random()\"\n",
    "    # Se esse número for menor que epsilon, tomamos uma ação aleatória\n",
    "    if np.random.random() < epsilon:\n",
    "        # Escolhemos uma ação aleatória, com env.action_space.sample()\n",
    "        acao = env.action_space.sample()\n",
    "    else:\n",
    "        # Escolhemos a melhor ação para o estado atual, com np.argmax()\n",
    "        acao = np.argmax(Q[estado])\n",
    "    return acao"
   ]
  },
  {
   "cell_type": "markdown",
   "metadata": {},
   "source": [
    "Para rodar uma partida, são necessárias algumas etapas. Inicialmente, o ambiente é reiniciado, de forma a inicar um novo episódio. Em seguida, é necessário discretizar o estado, pelos motivos já explicados acima. Esta discretização deve ocorrer toda vez em que estamos em um novo estado.\n",
    "\n",
    "Enquanto o ambiente não chega em seu estado terminal, indicado pela variável \"done\", será feito o processo de escolha de ações e, uma vez escolhida, deve-se receber do ambiente o próximo estado, a recompensa que a ação escolhida gerou, além do sinal se estamos no estado terminal. Todo o processo é repetido novamente para o próximo estado, até o final do episódio.\n",
    "\n",
    "Como explicado na seção sobre a biblioteca \"Gym\", \"env.render()\" tem como papel mostrar o ambiente (neste caso, a partida de Pong)"
   ]
  },
  {
   "cell_type": "code",
   "execution_count": 14,
   "metadata": {},
   "outputs": [],
   "source": [
    "def roda_partida(env, Q, renderiza=True):\n",
    "    # Resetamos o ambiente\n",
    "    estado = env.reset()\n",
    "\n",
    "    # Discretizamos o estado\n",
    "    estado = discretiza_estado(estado)\n",
    "    \n",
    "    done = False\n",
    "    retorno = 0\n",
    "    \n",
    "    while not done:\n",
    "        # Escolhemos uma ação\n",
    "        acao = escolhe_acao(env, Q, estado, epsilon=0)\n",
    "\n",
    "        # Tomamos nossa ação escolhida e recebemos informações do próximo estado\n",
    "        prox_estado, recompensa, done, info = env.step(acao)\n",
    "\n",
    "        # Discretizamos o próximo estado\n",
    "        prox_estado = discretiza_estado(prox_estado)\n",
    "\n",
    "        # Renderizamos o ambiente\n",
    "        if renderiza:\n",
    "            env.render()\n",
    "\n",
    "        retorno += recompensa\n",
    "        estado = prox_estado\n",
    "\n",
    "    print(f'retorno {retorno:.1f},  '\n",
    "          f'placar {env.score[0]}x{env.score[1]}')\n",
    "    \n",
    "    env.close()"
   ]
  },
  {
   "cell_type": "code",
   "execution_count": 15,
   "metadata": {
    "tags": []
   },
   "outputs": [
    {
     "output_type": "stream",
     "name": "stdout",
     "text": "retorno -3500.0,  placar 1x4\n"
    }
   ],
   "source": [
    "# Rodamos uma partida de Pong\n",
    "Q = {}\n",
    "roda_partida(env, Q)"
   ]
  },
  {
   "cell_type": "markdown",
   "metadata": {},
   "source": [
    "## 🏋️‍♀️ Treinamento\n",
    "\n",
    "Agora sim chegaremos no treinamento propriamente dito. Usando os conceitos vistos na apresentação e nas seções anteriores do notebook, podemos definir a função de treinamento que vai permitir que o agente aprenda a jogar PONG por meio de Q-Learning tabular."
   ]
  },
  {
   "cell_type": "markdown",
   "metadata": {},
   "source": [
    "O algoritmo se baseia na atualização de estimativas dos valores Q para cada par estado-ação, de forma a chegar a uma tabela cada vez mais próxima da realidade do ambiente. Dessa forma, devemos atualizar cada entrada da tabela de acordo com a **equação do Q-Learning**:\n",
    "\n",
    "$$Q*(s,a) \\leftarrow Q*(s,a) + \\alpha \\cdot \\left[r + \\gamma \\cdot \\max_{a'} (Q(s',a')) - Q(s, a)\\right]$$\n",
    "\n",
    "Esta equação corrige o valor do Q(s,a) de acordo com os valores anteriores somados a uma parecela de correção, de forma a minimizar o erro. A recompensa é representada por r, enquanto os outros parâmetros estão explicados a seguir:"
   ]
  },
  {
   "cell_type": "markdown",
   "metadata": {},
   "source": [
    "* \"ALFA\" ($\\alpha$): algoritmos de aprendizado de máquina costumam precisar de uma forma de serem otimizados. Q-learning trabalha em cima de gradientes, uma entidade matemática que indica a direção para maximizar (ou minimizar) uma função. Dispondo dessa direção, precisamos informar qual deve ser o tamanho do passo a ser dado antes de atualizar a nova \"direção ideal\".\n",
    "\n",
    "* \"GAMA\" ($\\gamma$): denota o quanto desejamos que nosso algoritmo considere eventos futuros. Se \"$\\gamma = 1$\", nosso algoritmo avaliará que a situação futura ser melhor que a atual é tão importante quanto a recompensa da situação atual em si, por outro lado, se \"$\\gamma = 0$\", os eventos futuros não apresentam importância alguma para nosso algoritmo. \n",
    "\n",
    "* \"Q\" é um dicionário, ou seja, uma estrtura de dados capaz de buscar elementos de forma rápida. Nós o usaremos para guardar valores relativos às estimativas do algoritmo."
   ]
  },
  {
   "cell_type": "code",
   "execution_count": 16,
   "metadata": {},
   "outputs": [],
   "source": [
    "# Hiperparâmetros do Q-Learning\n",
    "ALFA = 0.05          # Learning rate\n",
    "GAMA = 0.9           # Fator de desconto\n",
    "\n",
    "# Dicionário dos valores de Q\n",
    "# Chaves: estados; valores: qualidade Q atribuida a cada ação\n",
    "Q = {}"
   ]
  },
  {
   "cell_type": "code",
   "execution_count": 17,
   "metadata": {},
   "outputs": [],
   "source": [
    "def atualiza_q(Q, estado, acao, recompensa, prox_estado):\n",
    "    # para cada estado ainda não descoberto, iniciamos seu valor como nulo\n",
    "    if estado not in Q.keys(): Q[estado] = [0] * n_acoes\n",
    "    if prox_estado not in Q.keys(): Q[prox_estado] = [0] * n_acoes\n",
    "\n",
    "    # equação do Q-Learning\n",
    "    Q[estado][acao] = (1-ALFA) * Q[estado][acao] + ALFA * (recompensa + GAMA * np.max(Q[prox_estado]))"
   ]
  },
  {
   "cell_type": "markdown",
   "metadata": {},
   "source": [
    "Pickle é uma maneira de salvar dados em um arquivo independente. Dessa forma, podemos gravar os valores da nossa tabela Q em um arquivo próprio, ficando disponível para ser acessada em outro momento. Assim, podemos efetivamente salvar o modelo treinado para ser utilizado posteriormente. Abaixo, já estão presentes as funções de salvar e de abrir as tabelas com pickle."
   ]
  },
  {
   "cell_type": "code",
   "execution_count": 18,
   "metadata": {},
   "outputs": [],
   "source": [
    "import pickle\n",
    "\n",
    "def salva_tabela(Q, nome = 'model.pickle'):\n",
    "    with open(nome, 'wb') as pickle_out:\n",
    "        pickle.dump(Q, pickle_out)\n",
    "\n",
    "def carrega_tabela(nome = 'model.pickle'):\n",
    "    with open(nome, 'rb') as pickle_out:\n",
    "        return pickle.load(pickle_out)"
   ]
  },
  {
   "cell_type": "markdown",
   "metadata": {},
   "source": [
    "A função de treinamento tem estrutura semelhante à função roda_partida, conforme visto anteriormente. A cada episódio, o embiente deve ser reiniciado e discretizado, e deve indicar que o episódio ainda não chegou em sua condição terminal. Devemos também zerar o valor da recompensa, pois não devemos utilizar o retorno do episódio anterior.\n",
    "\n",
    "Enquanto o episódio não chega no final, o agente deve escolher uma ação e tomar a ação escolhida. Uma vez tomada a ação, o ambiente fornece o próximo estado, a recompensa recebida com a escolha, a indicação se o estado é terminal e informações sobre o ambiente.\n",
    "\n",
    "Em seguida, devemos discretizar o próximo estado e atualizar os valores de q, o retorno e o estado atual.\n",
    "\n",
    "Por fim, devemos atualizar o valor do epsilon, de acordo com o método $\\epsilon$-greedy, onde deve ocorrer o decaimento do epsilon, mas seu valor nunca deve ser inferior ao valor mínimo definido.\n",
    "\n"
   ]
  },
  {
   "cell_type": "markdown",
   "metadata": {},
   "source": [
    "* `N_EPISODIOS` dita quantas vezes o agente deverá \"reviver\" o ambiente (vitórias e derrotas) antes de acabar seu treinamento."
   ]
  },
  {
   "cell_type": "code",
   "execution_count": 24,
   "metadata": {},
   "outputs": [],
   "source": [
    "N_EPISODIOS = 500    # quantidade de episódios que treinaremos"
   ]
  },
  {
   "cell_type": "code",
   "execution_count": 20,
   "metadata": {},
   "outputs": [],
   "source": [
    "def treina(env, Q):\n",
    "    retornos = []      # retorno de cada episódio\n",
    "    epsilon = EPSILON\n",
    "\n",
    "    for episodio in range(1, N_EPISODIOS+1):\n",
    "        # resetar o ambiente\n",
    "        estado = env.reset()\n",
    "\n",
    "        # discretizar o estado inicial\n",
    "        estado = discretiza_estado(estado)\n",
    "        \n",
    "        done = False\n",
    "        retorno = 0\n",
    "        \n",
    "        while not done:\n",
    "            # escolher uma ação\n",
    "            acao = escolhe_acao(env, Q, estado, epsilon)\n",
    "\n",
    "            # tomar a ação\n",
    "            prox_estado, recompensa, done, info = env.step(acao)\n",
    "\n",
    "            # discretizar o próximo estado\n",
    "            prox_estado = discretiza_estado(prox_estado)\n",
    "\n",
    "            atualiza_q(Q, estado, acao, recompensa, prox_estado)\n",
    "\n",
    "            retorno += recompensa\n",
    "            estado = prox_estado\n",
    "\n",
    "        # calcular o próximo epsilon\n",
    "        epsilon = epsilon * DECAIMENTO\n",
    "        epsilon = max(epsilon, EPSILON_MIN)\n",
    "\n",
    "        retornos.append(retorno)\n",
    "\n",
    "        if episodio % 10 == 0:\n",
    "            salva_tabela(Q)\n",
    "\n",
    "        print(f'episódio {episodio},  '\n",
    "              f'retorno {retorno:7.1f},  '\n",
    "              f'retorno médio (últimos 10 episódios) {np.mean(retornos[-10:]):7.1f},  '\n",
    "              f'placar {env.score[0]}x{env.score[1]},  '\n",
    "              f'epsilon: {epsilon:.3f}')\n",
    "        \n",
    "    env.close()"
   ]
  },
  {
   "cell_type": "code",
   "execution_count": 25,
   "metadata": {
    "tags": [
     "outputPrepend"
    ]
   },
   "outputs": [
    {
     "output_type": "stream",
     "name": "stdout",
     "text": "x0,  epsilon: 0.034\nepisódio 316,  retorno  4000.0,  retorno médio (últimos 10 episódios)  3600.0,  placar 4x0,  epsilon: 0.033\nepisódio 317,  retorno  4000.0,  retorno médio (últimos 10 episódios)  3600.0,  placar 4x0,  epsilon: 0.033\nepisódio 318,  retorno  4000.0,  retorno médio (últimos 10 episódios)  3600.0,  placar 4x0,  epsilon: 0.033\nepisódio 319,  retorno  4000.0,  retorno médio (últimos 10 episódios)  3600.0,  placar 4x0,  epsilon: 0.032\nepisódio 320,  retorno  4000.0,  retorno médio (últimos 10 episódios)  3600.0,  placar 4x0,  epsilon: 0.032\nepisódio 321,  retorno  4000.0,  retorno médio (últimos 10 episódios)  3600.0,  placar 4x0,  epsilon: 0.032\nepisódio 322,  retorno  4000.0,  retorno médio (últimos 10 episódios)  3600.0,  placar 4x0,  epsilon: 0.031\nepisódio 323,  retorno  4000.0,  retorno médio (últimos 10 episódios)  3600.0,  placar 4x0,  epsilon: 0.031\nepisódio 324,  retorno  4000.0,  retorno médio (últimos 10 episódios)  4000.0,  placar 4x0,  epsilon: 0.031\nepisódio 325,  retorno  4000.0,  retorno médio (últimos 10 episódios)  4000.0,  placar 4x0,  epsilon: 0.031\nepisódio 326,  retorno  4000.0,  retorno médio (últimos 10 episódios)  4000.0,  placar 4x0,  epsilon: 0.030\nepisódio 327,  retorno  3500.0,  retorno médio (últimos 10 episódios)  3950.0,  placar 4x1,  epsilon: 0.030\nepisódio 328,  retorno  4000.0,  retorno médio (últimos 10 episódios)  3950.0,  placar 4x0,  epsilon: 0.030\nepisódio 329,  retorno  4000.0,  retorno médio (últimos 10 episódios)  3950.0,  placar 4x0,  epsilon: 0.029\nepisódio 330,  retorno  4000.0,  retorno médio (últimos 10 episódios)  3950.0,  placar 4x0,  epsilon: 0.029\nepisódio 331,  retorno  4000.0,  retorno médio (últimos 10 episódios)  3950.0,  placar 4x0,  epsilon: 0.029\nepisódio 332,  retorno  4000.0,  retorno médio (últimos 10 episódios)  3950.0,  placar 4x0,  epsilon: 0.028\nepisódio 333,  retorno  4000.0,  retorno médio (últimos 10 episódios)  3950.0,  placar 4x0,  epsilon: 0.028\nepisódio 334,  retorno  4000.0,  retorno médio (últimos 10 episódios)  3950.0,  placar 4x0,  epsilon: 0.028\nepisódio 335,  retorno  4000.0,  retorno médio (últimos 10 episódios)  3950.0,  placar 4x0,  epsilon: 0.028\nepisódio 336,  retorno  4000.0,  retorno médio (últimos 10 episódios)  3950.0,  placar 4x0,  epsilon: 0.027\nepisódio 337,  retorno  4000.0,  retorno médio (últimos 10 episódios)  4000.0,  placar 4x0,  epsilon: 0.027\nepisódio 338,  retorno  4000.0,  retorno médio (últimos 10 episódios)  4000.0,  placar 4x0,  epsilon: 0.027\nepisódio 339,  retorno  3500.0,  retorno médio (últimos 10 episódios)  3950.0,  placar 4x1,  epsilon: 0.027\nepisódio 340,  retorno  4000.0,  retorno médio (últimos 10 episódios)  3950.0,  placar 4x0,  epsilon: 0.026\nepisódio 341,  retorno  4000.0,  retorno médio (últimos 10 episódios)  3950.0,  placar 4x0,  epsilon: 0.026\nepisódio 342,  retorno  4000.0,  retorno médio (últimos 10 episódios)  3950.0,  placar 4x0,  epsilon: 0.026\nepisódio 343,  retorno  4000.0,  retorno médio (últimos 10 episódios)  3950.0,  placar 4x0,  epsilon: 0.025\nepisódio 344,  retorno  4000.0,  retorno médio (últimos 10 episódios)  3950.0,  placar 4x0,  epsilon: 0.025\nepisódio 345,  retorno  4000.0,  retorno médio (últimos 10 episódios)  3950.0,  placar 4x0,  epsilon: 0.025\nepisódio 346,  retorno  4000.0,  retorno médio (últimos 10 episódios)  3950.0,  placar 4x0,  epsilon: 0.025\nepisódio 347,  retorno  4000.0,  retorno médio (últimos 10 episódios)  3950.0,  placar 4x0,  epsilon: 0.024\nepisódio 348,  retorno  1000.0,  retorno médio (últimos 10 episódios)  3650.0,  placar 2x0,  epsilon: 0.024\nepisódio 349,  retorno  4000.0,  retorno médio (últimos 10 episódios)  3700.0,  placar 4x0,  epsilon: 0.024\nepisódio 350,  retorno  4000.0,  retorno médio (últimos 10 episódios)  3700.0,  placar 4x0,  epsilon: 0.024\nepisódio 351,  retorno  4000.0,  retorno médio (últimos 10 episódios)  3700.0,  placar 4x0,  epsilon: 0.023\nepisódio 352,  retorno  4000.0,  retorno médio (últimos 10 episódios)  3700.0,  placar 4x0,  epsilon: 0.023\nepisódio 353,  retorno  4000.0,  retorno médio (últimos 10 episódios)  3700.0,  placar 4x0,  epsilon: 0.023\nepisódio 354,  retorno  4000.0,  retorno médio (últimos 10 episódios)  3700.0,  placar 4x0,  epsilon: 0.023\nepisódio 355,  retorno  4000.0,  retorno médio (últimos 10 episódios)  3700.0,  placar 4x0,  epsilon: 0.023\nepisódio 356,  retorno  4000.0,  retorno médio (últimos 10 episódios)  3700.0,  placar 4x0,  epsilon: 0.022\nepisódio 357,  retorno  4000.0,  retorno médio (últimos 10 episódios)  3700.0,  placar 4x0,  epsilon: 0.022\nepisódio 358,  retorno  4000.0,  retorno médio (últimos 10 episódios)  4000.0,  placar 4x0,  epsilon: 0.022\nepisódio 359,  retorno  4000.0,  retorno médio (últimos 10 episódios)  4000.0,  placar 4x0,  epsilon: 0.022\nepisódio 360,  retorno  4000.0,  retorno médio (últimos 10 episódios)  4000.0,  placar 4x0,  epsilon: 0.021\nepisódio 361,  retorno  4000.0,  retorno médio (últimos 10 episódios)  4000.0,  placar 4x0,  epsilon: 0.021\nepisódio 362,  retorno  4000.0,  retorno médio (últimos 10 episódios)  4000.0,  placar 4x0,  epsilon: 0.021\nepisódio 363,  retorno  4000.0,  retorno médio (últimos 10 episódios)  4000.0,  placar 4x0,  epsilon: 0.021\nepisódio 364,  retorno  4000.0,  retorno médio (últimos 10 episódios)  4000.0,  placar 4x0,  epsilon: 0.021\nepisódio 365,  retorno  4000.0,  retorno médio (últimos 10 episódios)  4000.0,  placar 4x0,  epsilon: 0.020\nepisódio 366,  retorno  4000.0,  retorno médio (últimos 10 episódios)  4000.0,  placar 4x0,  epsilon: 0.020\nepisódio 367,  retorno  1500.0,  retorno médio (últimos 10 episódios)  3750.0,  placar 3x0,  epsilon: 0.020\nepisódio 368,  retorno  4000.0,  retorno médio (últimos 10 episódios)  3750.0,  placar 4x0,  epsilon: 0.020\nepisódio 369,  retorno  4000.0,  retorno médio (últimos 10 episódios)  3750.0,  placar 4x0,  epsilon: 0.020\nepisódio 370,  retorno  3500.0,  retorno médio (últimos 10 episódios)  3700.0,  placar 4x1,  epsilon: 0.019\nepisódio 371,  retorno  4000.0,  retorno médio (últimos 10 episódios)  3700.0,  placar 4x0,  epsilon: 0.019\nepisódio 372,  retorno  4000.0,  retorno médio (últimos 10 episódios)  3700.0,  placar 4x0,  epsilon: 0.019\nepisódio 373,  retorno  4000.0,  retorno médio (últimos 10 episódios)  3700.0,  placar 4x0,  epsilon: 0.019\nepisódio 374,  retorno  4000.0,  retorno médio (últimos 10 episódios)  3700.0,  placar 4x0,  epsilon: 0.019\nepisódio 375,  retorno  4000.0,  retorno médio (últimos 10 episódios)  3700.0,  placar 4x0,  epsilon: 0.018\nepisódio 376,  retorno  4000.0,  retorno médio (últimos 10 episódios)  3700.0,  placar 4x0,  epsilon: 0.018\nepisódio 377,  retorno  4000.0,  retorno médio (últimos 10 episódios)  3950.0,  placar 4x0,  epsilon: 0.018\nepisódio 378,  retorno  4000.0,  retorno médio (últimos 10 episódios)  3950.0,  placar 4x0,  epsilon: 0.018\nepisódio 379,  retorno  4000.0,  retorno médio (últimos 10 episódios)  3950.0,  placar 4x0,  epsilon: 0.018\nepisódio 380,  retorno  4000.0,  retorno médio (últimos 10 episódios)  4000.0,  placar 4x0,  epsilon: 0.018\nepisódio 381,  retorno  4000.0,  retorno médio (últimos 10 episódios)  4000.0,  placar 4x0,  epsilon: 0.017\nepisódio 382,  retorno  4000.0,  retorno médio (últimos 10 episódios)  4000.0,  placar 4x0,  epsilon: 0.017\nepisódio 383,  retorno  4000.0,  retorno médio (últimos 10 episódios)  4000.0,  placar 4x0,  epsilon: 0.017\nepisódio 384,  retorno  4000.0,  retorno médio (últimos 10 episódios)  4000.0,  placar 4x0,  epsilon: 0.017\nepisódio 385,  retorno  4000.0,  retorno médio (últimos 10 episódios)  4000.0,  placar 4x0,  epsilon: 0.017\nepisódio 386,  retorno  4000.0,  retorno médio (últimos 10 episódios)  4000.0,  placar 4x0,  epsilon: 0.017\nepisódio 387,  retorno  4000.0,  retorno médio (últimos 10 episódios)  4000.0,  placar 4x0,  epsilon: 0.016\nepisódio 388,  retorno  4000.0,  retorno médio (últimos 10 episódios)  4000.0,  placar 4x0,  epsilon: 0.016\nepisódio 389,  retorno  4000.0,  retorno médio (últimos 10 episódios)  4000.0,  placar 4x0,  epsilon: 0.016\nepisódio 390,  retorno  4000.0,  retorno médio (últimos 10 episódios)  4000.0,  placar 4x0,  epsilon: 0.016\nepisódio 391,  retorno  4000.0,  retorno médio (últimos 10 episódios)  4000.0,  placar 4x0,  epsilon: 0.016\nepisódio 392,  retorno  4000.0,  retorno médio (últimos 10 episódios)  4000.0,  placar 4x0,  epsilon: 0.016\nepisódio 393,  retorno  4000.0,  retorno médio (últimos 10 episódios)  4000.0,  placar 4x0,  epsilon: 0.015\nepisódio 394,  retorno  4000.0,  retorno médio (últimos 10 episódios)  4000.0,  placar 4x0,  epsilon: 0.015\nepisódio 395,  retorno  4000.0,  retorno médio (últimos 10 episódios)  4000.0,  placar 4x0,  epsilon: 0.015\nepisódio 396,  retorno  4000.0,  retorno médio (últimos 10 episódios)  4000.0,  placar 4x0,  epsilon: 0.015\nepisódio 397,  retorno  4000.0,  retorno médio (últimos 10 episódios)  4000.0,  placar 4x0,  epsilon: 0.015\nepisódio 398,  retorno  4000.0,  retorno médio (últimos 10 episódios)  4000.0,  placar 4x0,  epsilon: 0.015\nepisódio 399,  retorno  4000.0,  retorno médio (últimos 10 episódios)  4000.0,  placar 4x0,  epsilon: 0.015\nepisódio 400,  retorno  1500.0,  retorno médio (últimos 10 episódios)  3750.0,  placar 3x0,  epsilon: 0.014\nepisódio 401,  retorno  4000.0,  retorno médio (últimos 10 episódios)  3750.0,  placar 4x0,  epsilon: 0.014\nepisódio 402,  retorno  4000.0,  retorno médio (últimos 10 episódios)  3750.0,  placar 4x0,  epsilon: 0.014\nepisódio 403,  retorno  4000.0,  retorno médio (últimos 10 episódios)  3750.0,  placar 4x0,  epsilon: 0.014\nepisódio 404,  retorno  4000.0,  retorno médio (últimos 10 episódios)  3750.0,  placar 4x0,  epsilon: 0.014\nepisódio 405,  retorno  4000.0,  retorno médio (últimos 10 episódios)  3750.0,  placar 4x0,  epsilon: 0.014\nepisódio 406,  retorno  4000.0,  retorno médio (últimos 10 episódios)  3750.0,  placar 4x0,  epsilon: 0.014\nepisódio 407,  retorno  4000.0,  retorno médio (últimos 10 episódios)  3750.0,  placar 4x0,  epsilon: 0.013\nepisódio 408,  retorno  4000.0,  retorno médio (últimos 10 episódios)  3750.0,  placar 4x0,  epsilon: 0.013\nepisódio 409,  retorno  4000.0,  retorno médio (últimos 10 episódios)  3750.0,  placar 4x0,  epsilon: 0.013\nepisódio 410,  retorno  4000.0,  retorno médio (últimos 10 episódios)  4000.0,  placar 4x0,  epsilon: 0.013\nepisódio 411,  retorno  4000.0,  retorno médio (últimos 10 episódios)  4000.0,  placar 4x0,  epsilon: 0.013\nepisódio 412,  retorno  1500.0,  retorno médio (últimos 10 episódios)  3750.0,  placar 3x0,  epsilon: 0.013\nepisódio 413,  retorno  4000.0,  retorno médio (últimos 10 episódios)  3750.0,  placar 4x0,  epsilon: 0.013\nepisódio 414,  retorno  4000.0,  retorno médio (últimos 10 episódios)  3750.0,  placar 4x0,  epsilon: 0.012\nepisódio 415,  retorno  4000.0,  retorno médio (últimos 10 episódios)  3750.0,  placar 4x0,  epsilon: 0.012\nepisódio 416,  retorno  4000.0,  retorno médio (últimos 10 episódios)  3750.0,  placar 4x0,  epsilon: 0.012\nepisódio 417,  retorno  4000.0,  retorno médio (últimos 10 episódios)  3750.0,  placar 4x0,  epsilon: 0.012\nepisódio 418,  retorno  4000.0,  retorno médio (últimos 10 episódios)  3750.0,  placar 4x0,  epsilon: 0.012\nepisódio 419,  retorno  1500.0,  retorno médio (últimos 10 episódios)  3500.0,  placar 3x0,  epsilon: 0.012\nepisódio 420,  retorno  4000.0,  retorno médio (últimos 10 episódios)  3500.0,  placar 4x0,  epsilon: 0.012\nepisódio 421,  retorno  4000.0,  retorno médio (últimos 10 episódios)  3500.0,  placar 4x0,  epsilon: 0.012\nepisódio 422,  retorno  4000.0,  retorno médio (últimos 10 episódios)  3750.0,  placar 4x0,  epsilon: 0.012\nepisódio 423,  retorno  4000.0,  retorno médio (últimos 10 episódios)  3750.0,  placar 4x0,  epsilon: 0.011\nepisódio 424,  retorno  4000.0,  retorno médio (últimos 10 episódios)  3750.0,  placar 4x0,  epsilon: 0.011\nepisódio 425,  retorno  4000.0,  retorno médio (últimos 10 episódios)  3750.0,  placar 4x0,  epsilon: 0.011\nepisódio 426,  retorno  4000.0,  retorno médio (últimos 10 episódios)  3750.0,  placar 4x0,  epsilon: 0.011\nepisódio 427,  retorno  4000.0,  retorno médio (últimos 10 episódios)  3750.0,  placar 4x0,  epsilon: 0.011\nepisódio 428,  retorno  4000.0,  retorno médio (últimos 10 episódios)  3750.0,  placar 4x0,  epsilon: 0.011\nepisódio 429,  retorno  4000.0,  retorno médio (últimos 10 episódios)  4000.0,  placar 4x0,  epsilon: 0.011\nepisódio 430,  retorno  4000.0,  retorno médio (últimos 10 episódios)  4000.0,  placar 4x0,  epsilon: 0.011\nepisódio 431,  retorno  4000.0,  retorno médio (últimos 10 episódios)  4000.0,  placar 4x0,  epsilon: 0.011\nepisódio 432,  retorno  4000.0,  retorno médio (últimos 10 episódios)  4000.0,  placar 4x0,  epsilon: 0.010\nepisódio 433,  retorno  4000.0,  retorno médio (últimos 10 episódios)  4000.0,  placar 4x0,  epsilon: 0.010\nepisódio 434,  retorno  4000.0,  retorno médio (últimos 10 episódios)  4000.0,  placar 4x0,  epsilon: 0.010\nepisódio 435,  retorno  4000.0,  retorno médio (últimos 10 episódios)  4000.0,  placar 4x0,  epsilon: 0.010\nepisódio 436,  retorno  1000.0,  retorno médio (últimos 10 episódios)  3700.0,  placar 2x0,  epsilon: 0.010\nepisódio 437,  retorno  4000.0,  retorno médio (últimos 10 episódios)  3700.0,  placar 4x0,  epsilon: 0.010\nepisódio 438,  retorno  4000.0,  retorno médio (últimos 10 episódios)  3700.0,  placar 4x0,  epsilon: 0.010\nepisódio 439,  retorno  4000.0,  retorno médio (últimos 10 episódios)  3700.0,  placar 4x0,  epsilon: 0.010\nepisódio 440,  retorno  4000.0,  retorno médio (últimos 10 episódios)  3700.0,  placar 4x0,  epsilon: 0.010\nepisódio 441,  retorno  4000.0,  retorno médio (últimos 10 episódios)  3700.0,  placar 4x0,  epsilon: 0.010\nepisódio 442,  retorno  4000.0,  retorno médio (últimos 10 episódios)  3700.0,  placar 4x0,  epsilon: 0.010\nepisódio 443,  retorno  4000.0,  retorno médio (últimos 10 episódios)  3700.0,  placar 4x0,  epsilon: 0.010\nepisódio 444,  retorno  4000.0,  retorno médio (últimos 10 episódios)  3700.0,  placar 4x0,  epsilon: 0.010\nepisódio 445,  retorno  4000.0,  retorno médio (últimos 10 episódios)  3700.0,  placar 4x0,  epsilon: 0.010\nepisódio 446,  retorno  4000.0,  retorno médio (últimos 10 episódios)  4000.0,  placar 4x0,  epsilon: 0.010\nepisódio 447,  retorno  4000.0,  retorno médio (últimos 10 episódios)  4000.0,  placar 4x0,  epsilon: 0.010\nepisódio 448,  retorno  4000.0,  retorno médio (últimos 10 episódios)  4000.0,  placar 4x0,  epsilon: 0.010\nepisódio 449,  retorno  4000.0,  retorno médio (últimos 10 episódios)  4000.0,  placar 4x0,  epsilon: 0.010\nepisódio 450,  retorno  4000.0,  retorno médio (últimos 10 episódios)  4000.0,  placar 4x0,  epsilon: 0.010\nepisódio 451,  retorno  4000.0,  retorno médio (últimos 10 episódios)  4000.0,  placar 4x0,  epsilon: 0.010\nepisódio 452,  retorno  4000.0,  retorno médio (últimos 10 episódios)  4000.0,  placar 4x0,  epsilon: 0.010\nepisódio 453,  retorno  4000.0,  retorno médio (últimos 10 episódios)  4000.0,  placar 4x0,  epsilon: 0.010\nepisódio 454,  retorno  4000.0,  retorno médio (últimos 10 episódios)  4000.0,  placar 4x0,  epsilon: 0.010\nepisódio 455,  retorno  4000.0,  retorno médio (últimos 10 episódios)  4000.0,  placar 4x0,  epsilon: 0.010\nepisódio 456,  retorno  4000.0,  retorno médio (últimos 10 episódios)  4000.0,  placar 4x0,  epsilon: 0.010\nepisódio 457,  retorno  4000.0,  retorno médio (últimos 10 episódios)  4000.0,  placar 4x0,  epsilon: 0.010\nepisódio 458,  retorno  4000.0,  retorno médio (últimos 10 episódios)  4000.0,  placar 4x0,  epsilon: 0.010\nepisódio 459,  retorno  4000.0,  retorno médio (últimos 10 episódios)  4000.0,  placar 4x0,  epsilon: 0.010\nepisódio 460,  retorno  4000.0,  retorno médio (últimos 10 episódios)  4000.0,  placar 4x0,  epsilon: 0.010\nepisódio 461,  retorno  4000.0,  retorno médio (últimos 10 episódios)  4000.0,  placar 4x0,  epsilon: 0.010\nepisódio 462,  retorno  4000.0,  retorno médio (últimos 10 episódios)  4000.0,  placar 4x0,  epsilon: 0.010\nepisódio 463,  retorno  4000.0,  retorno médio (últimos 10 episódios)  4000.0,  placar 4x0,  epsilon: 0.010\nepisódio 464,  retorno  4000.0,  retorno médio (últimos 10 episódios)  4000.0,  placar 4x0,  epsilon: 0.010\nepisódio 465,  retorno  4000.0,  retorno médio (últimos 10 episódios)  4000.0,  placar 4x0,  epsilon: 0.010\nepisódio 466,  retorno  4000.0,  retorno médio (últimos 10 episódios)  4000.0,  placar 4x0,  epsilon: 0.010\nepisódio 467,  retorno  4000.0,  retorno médio (últimos 10 episódios)  4000.0,  placar 4x0,  epsilon: 0.010\nepisódio 468,  retorno  4000.0,  retorno médio (últimos 10 episódios)  4000.0,  placar 4x0,  epsilon: 0.010\nepisódio 469,  retorno  4000.0,  retorno médio (últimos 10 episódios)  4000.0,  placar 4x0,  epsilon: 0.010\nepisódio 470,  retorno  4000.0,  retorno médio (últimos 10 episódios)  4000.0,  placar 4x0,  epsilon: 0.010\nepisódio 471,  retorno  4000.0,  retorno médio (últimos 10 episódios)  4000.0,  placar 4x0,  epsilon: 0.010\nepisódio 472,  retorno  4000.0,  retorno médio (últimos 10 episódios)  4000.0,  placar 4x0,  epsilon: 0.010\nepisódio 473,  retorno  1500.0,  retorno médio (últimos 10 episódios)  3750.0,  placar 3x0,  epsilon: 0.010\nepisódio 474,  retorno  4000.0,  retorno médio (últimos 10 episódios)  3750.0,  placar 4x0,  epsilon: 0.010\nepisódio 475,  retorno  4000.0,  retorno médio (últimos 10 episódios)  3750.0,  placar 4x0,  epsilon: 0.010\nepisódio 476,  retorno  4000.0,  retorno médio (últimos 10 episódios)  3750.0,  placar 4x0,  epsilon: 0.010\nepisódio 477,  retorno  4000.0,  retorno médio (últimos 10 episódios)  3750.0,  placar 4x0,  epsilon: 0.010\nepisódio 478,  retorno  4000.0,  retorno médio (últimos 10 episódios)  3750.0,  placar 4x0,  epsilon: 0.010\nepisódio 479,  retorno  4000.0,  retorno médio (últimos 10 episódios)  3750.0,  placar 4x0,  epsilon: 0.010\nepisódio 480,  retorno  4000.0,  retorno médio (últimos 10 episódios)  3750.0,  placar 4x0,  epsilon: 0.010\nepisódio 481,  retorno  1000.0,  retorno médio (últimos 10 episódios)  3450.0,  placar 2x0,  epsilon: 0.010\nepisódio 482,  retorno  3500.0,  retorno médio (últimos 10 episódios)  3400.0,  placar 4x1,  epsilon: 0.010\nepisódio 483,  retorno  4000.0,  retorno médio (últimos 10 episódios)  3650.0,  placar 4x0,  epsilon: 0.010\nepisódio 484,  retorno  4000.0,  retorno médio (últimos 10 episódios)  3650.0,  placar 4x0,  epsilon: 0.010\nepisódio 485,  retorno  4000.0,  retorno médio (últimos 10 episódios)  3650.0,  placar 4x0,  epsilon: 0.010\nepisódio 486,  retorno  1500.0,  retorno médio (últimos 10 episódios)  3400.0,  placar 3x0,  epsilon: 0.010\nepisódio 487,  retorno  4000.0,  retorno médio (últimos 10 episódios)  3400.0,  placar 4x0,  epsilon: 0.010\nepisódio 488,  retorno  4000.0,  retorno médio (últimos 10 episódios)  3400.0,  placar 4x0,  epsilon: 0.010\nepisódio 489,  retorno  4000.0,  retorno médio (últimos 10 episódios)  3400.0,  placar 4x0,  epsilon: 0.010\nepisódio 490,  retorno  4000.0,  retorno médio (últimos 10 episódios)  3400.0,  placar 4x0,  epsilon: 0.010\nepisódio 491,  retorno  4000.0,  retorno médio (últimos 10 episódios)  3700.0,  placar 4x0,  epsilon: 0.010\nepisódio 492,  retorno  4000.0,  retorno médio (últimos 10 episódios)  3750.0,  placar 4x0,  epsilon: 0.010\nepisódio 493,  retorno  4000.0,  retorno médio (últimos 10 episódios)  3750.0,  placar 4x0,  epsilon: 0.010\nepisódio 494,  retorno  4000.0,  retorno médio (últimos 10 episódios)  3750.0,  placar 4x0,  epsilon: 0.010\nepisódio 495,  retorno  4000.0,  retorno médio (últimos 10 episódios)  3750.0,  placar 4x0,  epsilon: 0.010\nepisódio 496,  retorno  4000.0,  retorno médio (últimos 10 episódios)  4000.0,  placar 4x0,  epsilon: 0.010\nepisódio 497,  retorno  4000.0,  retorno médio (últimos 10 episódios)  4000.0,  placar 4x0,  epsilon: 0.010\nepisódio 498,  retorno  1500.0,  retorno médio (últimos 10 episódios)  3750.0,  placar 3x0,  epsilon: 0.010\nepisódio 499,  retorno  4000.0,  retorno médio (últimos 10 episódios)  3750.0,  placar 4x0,  epsilon: 0.010\nepisódio 500,  retorno  4000.0,  retorno médio (últimos 10 episódios)  3750.0,  placar 4x0,  epsilon: 0.010\n"
    }
   ],
   "source": [
    "treina(env, Q)"
   ]
  },
  {
   "cell_type": "markdown",
   "metadata": {},
   "source": [
    "## 🏓 Testando nosso Agente Treinado"
   ]
  },
  {
   "cell_type": "code",
   "execution_count": 27,
   "metadata": {
    "tags": []
   },
   "outputs": [
    {
     "output_type": "stream",
     "name": "stdout",
     "text": "retorno 4000.0,  placar 4x0\n"
    }
   ],
   "source": [
    "roda_partida(env, Q)"
   ]
  },
  {
   "cell_type": "code",
   "execution_count": 28,
   "metadata": {},
   "outputs": [],
   "source": [
    "salva_tabela(Q, 'treino-pos-workshop.pickle')"
   ]
  },
  {
   "cell_type": "code",
   "execution_count": null,
   "metadata": {},
   "outputs": [],
   "source": []
  }
 ],
 "metadata": {
  "kernelspec": {
   "display_name": "Python 3.8.2 64-bit",
   "language": "python",
   "name": "python38264bit9838909551d74a6aa782184662a5b61b"
  },
  "language_info": {
   "codemirror_mode": {
    "name": "ipython",
    "version": 3
   },
   "file_extension": ".py",
   "mimetype": "text/x-python",
   "name": "python",
   "nbconvert_exporter": "python",
   "pygments_lexer": "ipython3",
   "version": "3.8.2-final"
  }
 },
 "nbformat": 4,
 "nbformat_minor": 4
}